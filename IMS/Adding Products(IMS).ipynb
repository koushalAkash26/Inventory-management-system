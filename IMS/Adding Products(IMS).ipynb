{
 "cells": [
  {
   "cell_type": "markdown",
   "id": "95917c31",
   "metadata": {},
   "source": [
    "# INVENTORY MANAGEMENT SYSTEM"
   ]
  },
  {
   "cell_type": "markdown",
   "id": "9f6f11d2",
   "metadata": {},
   "source": [
    "### Reading Data from JSON"
   ]
  },
  {
   "cell_type": "code",
   "execution_count": 1,
   "id": "bd34e5f4",
   "metadata": {},
   "outputs": [],
   "source": [
    "import json\n",
    "fd = open(\"products.json\",'r')\n",
    "txt = fd.read()\n",
    "fd.close()\n",
    "\n",
    "record = json.loads(txt)"
   ]
  },
  {
   "cell_type": "code",
   "execution_count": 2,
   "id": "e4a5a374",
   "metadata": {},
   "outputs": [
    {
     "data": {
      "text/plain": [
       "{'100': {'name': 'Diary Milk',\n",
       "  'price': 45,\n",
       "  'stock': 150,\n",
       "  'category': 'Chocolate',\n",
       "  'exp': 'Dec 2021'},\n",
       " '101': {'name': 'Pepsi',\n",
       "  'price': 30,\n",
       "  'stock': 300,\n",
       "  'category': 'Soft Drinks',\n",
       "  'exp': 'Jan 2022'},\n",
       " '102': {'name': 'Good day',\n",
       "  'price': 20,\n",
       "  'stock': 100,\n",
       "  'category': 'Biscuits',\n",
       "  'exp': 'Mar 2022'},\n",
       " '103': {'name': 'Maggi',\n",
       "  'price': 10,\n",
       "  'stock': 200,\n",
       "  'cateory': 'Noodles',\n",
       "  'exp': 'Feb 2022'},\n",
       " '104': {'name': 'Kurkure',\n",
       "  'price': 15,\n",
       "  'stock': 250,\n",
       "  'category': 'Chips',\n",
       "  'exp': 'Mar 2022'},\n",
       " '105': {'name': 'Medimix',\n",
       "  'price': 30,\n",
       "  'stock': 500,\n",
       "  'category': 'Soap',\n",
       "  'exp': 'Oct 2021'},\n",
       " '106': {'name': 'Clinic Plus',\n",
       "  'price': 75,\n",
       "  'stock': 400,\n",
       "  'category': 'Shampoo',\n",
       "  'exp': 'Oct 2021'},\n",
       " '107': {'name': 'Colgate',\n",
       "  'price': 60,\n",
       "  'stock': 500,\n",
       "  'category': 'Toothpaste',\n",
       "  'exp': 'Oct 2021'},\n",
       " '108': {'name': 'Kitkat',\n",
       "  'price': 20,\n",
       "  'stock': 500,\n",
       "  'category': 'Chocolate',\n",
       "  'exp': 'Oct 2021'},\n",
       " '109': {'name': 'Surf Excel',\n",
       "  'price': 95,\n",
       "  'stock': 250,\n",
       "  'category': 'Detergent',\n",
       "  'exp': 'Oct 2021'},\n",
       " '110': {'name': 'Coca Cola',\n",
       "  'price': 38,\n",
       "  'stock': 150,\n",
       "  'category': 'Soft Drinks',\n",
       "  'exp': 'Oct 2021'},\n",
       " '111': {'name': 'Oreo',\n",
       "  'price': 10,\n",
       "  'stock': 300,\n",
       "  'category': 'Biscuits',\n",
       "  'exp': 'Oct 2021'},\n",
       " '112': {'name': 'Maggi Ketchup',\n",
       "  'price': 65,\n",
       "  'stock': 100,\n",
       "  'category': 'Tomato Sauce',\n",
       "  'exp': 'Oct 2021'},\n",
       " '113': {'name': 'Pringles',\n",
       "  'price': 99,\n",
       "  'stock': 150,\n",
       "  'category': 'Chips',\n",
       "  'exp': 'Oct 2021'},\n",
       " '114': {'name': 'Pears',\n",
       "  'price': 65,\n",
       "  'stock': 150,\n",
       "  'category': 'Soap',\n",
       "  'exp': 'Oct 2021'},\n",
       " '115': {'name': 'Pepsodent',\n",
       "  'price': 65,\n",
       "  'stock': 400,\n",
       "  'category': 'Toothpaste',\n",
       "  'exp': 'Sep 2022'},\n",
       " '116': {'name': 'Tresemme',\n",
       "  'price': 90,\n",
       "  'stock': 250,\n",
       "  'category': 'Shampoo',\n",
       "  'exp': 'Dec 2022'},\n",
       " '117': {'name': 'Axe',\n",
       "  'price': 180,\n",
       "  'stock': 500,\n",
       "  'category': 'Perfume',\n",
       "  'exp': 'Nov 2022'},\n",
       " '118': {'name': 'Yardly London',\n",
       "  'price': 250,\n",
       "  'stock': 600,\n",
       "  'category': 'Perfume',\n",
       "  'exp': 'Nov 2022'},\n",
       " '119': {'name': 'Fair & Lovely',\n",
       "  'price': 100,\n",
       "  'stock': 700,\n",
       "  'category': 'Cosmetics',\n",
       "  'exp': 'Oct 2022'},\n",
       " '120': {'name': 'Delmort',\n",
       "  'price': 95,\n",
       "  'stock': 200,\n",
       "  'category': 'Tomato Sauce',\n",
       "  'exp': 'Jul 2022'},\n",
       " '121': {'name': 'Aachi Pickle',\n",
       "  'price': 95,\n",
       "  'stock': 250,\n",
       "  'category': 'Pickle',\n",
       "  'exp': 'Jun 2022'},\n",
       " '122': {'name': 'Whitetone',\n",
       "  'price': 130,\n",
       "  'stock': 350,\n",
       "  'category': 'Cosmetics',\n",
       "  'exp': 'Jun 2022'},\n",
       " '123': {'name': 'Nescafe',\n",
       "  'price': 95,\n",
       "  'stock': 500,\n",
       "  'category': 'Coffee/Tea',\n",
       "  'exp': 'Aug 2022'},\n",
       " '124': {'name': 'Gold winner',\n",
       "  'price': 185,\n",
       "  'stock': 300,\n",
       "  'category': 'Oil',\n",
       "  'exp': 'Dec 2021'},\n",
       " '125': {'name': 'Saffolla',\n",
       "  'price': 150,\n",
       "  'stock': 250,\n",
       "  'category': 'Oil',\n",
       "  'exp': 'Nov 2021'},\n",
       " '126': {'name': 'Galaxy',\n",
       "  'price': 25,\n",
       "  'stock': 250,\n",
       "  'category': 'Chocolate',\n",
       "  'exp': 'Dec 2022'},\n",
       " '127': {'name': 'Maaza',\n",
       "  'price': 35,\n",
       "  'stock': 250,\n",
       "  'category': 'Soft Drinks',\n",
       "  'exp': 'Jun 2022'},\n",
       " '128': {'name': 'Rin',\n",
       "  'price': 95,\n",
       "  'stock': 250,\n",
       "  'category': 'Detergent',\n",
       "  'exp': 'Mar 2022'},\n",
       " '129': {'name': 'Yippee',\n",
       "  'price': 55,\n",
       "  'stock': 350,\n",
       "  'category': 'Noodles',\n",
       "  'exp': 'Nov 2022'},\n",
       " '130': {'name': 'Brittania',\n",
       "  'price': 95,\n",
       "  'stock': 250,\n",
       "  'category': 'Biscuits',\n",
       "  'exp': 'Oct 2022'}}"
      ]
     },
     "execution_count": 2,
     "metadata": {},
     "output_type": "execute_result"
    }
   ],
   "source": [
    "record"
   ]
  },
  {
   "cell_type": "markdown",
   "id": "4f935181",
   "metadata": {},
   "source": [
    "### Adding new product to the Record"
   ]
  },
  {
   "cell_type": "code",
   "execution_count": 3,
   "id": "46176c41",
   "metadata": {
    "scrolled": true
   },
   "outputs": [
    {
     "name": "stdout",
     "output_type": "stream",
     "text": [
      "Enter the Product Name:Bru\n",
      "Enter the Price:60\n",
      "Enter the Quantity:200\n",
      "Enter the Product Category:Coffee/Tea\n",
      "Enter the Expiry Date Of the Product:Nov 2022\n",
      "Do you want to add Another Product(y/n)y\n",
      "Enter the Product Name:Bingo\n",
      "Enter the Price:25\n",
      "Enter the Quantity:350\n",
      "Enter the Product Category:Chips\n",
      "Enter the Expiry Date Of the Product:Jul 2022\n",
      "Do you want to add Another Product(y/n)n\n",
      "Products added Successfully!!!\n"
     ]
    }
   ],
   "source": [
    "choice = True\n",
    "while (choice):\n",
    "  name= input(\"Enter the Product Name:\")\n",
    "  price = input(\"Enter the Price:\")\n",
    "  qty = input(\"Enter the Quantity:\")\n",
    "  categ = input(\"Enter the Product Category:\")\n",
    "  expdate = input(\"Enter the Expiry Date Of the Product:\")\n",
    "\n",
    "  record[str(len(record) + 100)] = {'name':name,'price':price,'stock':qty,'category':categ,'exp':expdate}\n",
    "\n",
    "  js =json.dumps(record)\n",
    "  new = input(\"Do you want to add Another Product(y/n)\")\n",
    "  if (new != 'y'):\n",
    "     choice = False\n",
    "print('Products added Successfully!!!')\n",
    "fd = open(\"products.json\",'w')\n",
    "fd.write(js)\n",
    "fd.close()\n"
   ]
  },
  {
   "cell_type": "markdown",
   "id": "4d8cc33b",
   "metadata": {},
   "source": [
    "### Deleting a Product in the Record"
   ]
  },
  {
   "cell_type": "code",
   "execution_count": 5,
   "id": "07396567",
   "metadata": {},
   "outputs": [
    {
     "name": "stdout",
     "output_type": "stream",
     "text": [
      "Enter the product id to delete:132\n",
      "Item deleted\n"
     ]
    }
   ],
   "source": [
    "del_id = input(\"Enter the product id to delete:\")\n",
    "if (del_id in record.keys()):\n",
    "    del record[del_id]\n",
    "    print(\"Item deleted\")\n",
    "else:\n",
    "    print(\"No item exists\")\n",
    "\n",
    "js =json.dumps(record)\n",
    "fd = open(\"products.json\",'w')\n",
    "fd.write(js)\n",
    "fd.close()"
   ]
  },
  {
   "cell_type": "code",
   "execution_count": null,
   "id": "ddf036ed",
   "metadata": {},
   "outputs": [],
   "source": []
  }
 ],
 "metadata": {
  "kernelspec": {
   "display_name": "Python 3",
   "language": "python",
   "name": "python3"
  },
  "language_info": {
   "codemirror_mode": {
    "name": "ipython",
    "version": 3
   },
   "file_extension": ".py",
   "mimetype": "text/x-python",
   "name": "python",
   "nbconvert_exporter": "python",
   "pygments_lexer": "ipython3",
   "version": "3.8.8"
  }
 },
 "nbformat": 4,
 "nbformat_minor": 5
}
