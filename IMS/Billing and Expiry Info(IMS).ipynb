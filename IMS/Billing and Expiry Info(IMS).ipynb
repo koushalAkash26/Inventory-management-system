{
 "cells": [
  {
   "cell_type": "markdown",
   "id": "09651332",
   "metadata": {},
   "source": [
    "# INVENTORY MANAGEMENT SYSTEM"
   ]
  },
  {
   "cell_type": "markdown",
   "id": "5a2f2467",
   "metadata": {},
   "source": [
    "### Reading Data from JSON"
   ]
  },
  {
   "cell_type": "code",
   "execution_count": 1,
   "id": "b03d67b0",
   "metadata": {},
   "outputs": [],
   "source": [
    "import json\n",
    "fd = open(\"products.json\",'r')\n",
    "txt = fd.read()\n",
    "fd.close()\n",
    "\n",
    "product_details = json.loads(txt)\n"
   ]
  },
  {
   "cell_type": "markdown",
   "id": "9b4f97c5",
   "metadata": {},
   "source": [
    "### Billing and updating stock ,Creating Sales.json and bill as text file"
   ]
  },
  {
   "cell_type": "code",
   "execution_count": 2,
   "id": "dda9ee8b",
   "metadata": {},
   "outputs": [],
   "source": [
    "from tabulate import tabulate\n",
    "import time\n",
    "sales={}\n",
    "bill = 0"
   ]
  },
  {
   "cell_type": "code",
   "execution_count": 3,
   "id": "379ef1c6",
   "metadata": {},
   "outputs": [
    {
     "name": "stdout",
     "output_type": "stream",
     "text": [
      "Enter the Product ID:102\n",
      "Enter the quantity:5\n",
      "Do you want to add Another Product(y/n)y\n",
      "Enter the Product ID:112\n",
      "Enter the quantity:6\n",
      "Do you want to add Another Product(y/n)y\n",
      "Enter the Product ID:122\n",
      "Enter the quantity:7\n",
      "Do you want to add Another Product(y/n)n\n",
      "**** **** **** **** **** **** **** **** **** ****\n",
      "Bill No: 1              Mon Sep  6 19:55:47 2021\n",
      "+------------+---------------+----------+-------+\n",
      "| Product ID | Product Name  | Quantity | Price |\n",
      "+------------+---------------+----------+-------+\n",
      "|    102     |   Good day    |    5     |  100  |\n",
      "|    112     | Maggi Ketchup |    6     |  390  |\n",
      "|    122     |   Whitetone   |    7     |  910  |\n",
      "+------------+---------------+----------+-------+\n",
      "**** **** **** **** **** **** **** **** **** ****\n"
     ]
    }
   ],
   "source": [
    "choice = True\n",
    "lst=[]\n",
    "while(choice):\n",
    "    user_prod = input(\"Enter the Product ID:\")\n",
    "    user_qty = input(\"Enter the quantity:\")\n",
    "    for i in product_details:\n",
    "        if(user_prod == i):\n",
    "            lst.append([i,product_details[i]['name'],user_qty,int(user_qty)*product_details[i]['price']])\n",
    "            sales[len(sales)+1] ={'prod_id':i,'name':product_details[i]['name'],'qty':user_qty,\n",
    "                                        'price':int(user_qty)*product_details[i]['price']}\n",
    "            product_details[i]['stock']=product_details[i]['stock'] - int(user_qty)\n",
    "    new = input(\"Do you want to add Another Product(y/n)\")\n",
    "    if (new != 'y'):\n",
    "        choice = False\n",
    "bill += 1\n",
    "print('**** **** **** **** **** **** **** **** **** ****')\n",
    "print('Bill No:',bill,'            ',time.ctime())\n",
    "print(tabulate(lst,headers =['Product ID','Product Name','Quantity','Price'],tablefmt = 'pretty')) \n",
    "print('**** **** **** **** **** **** **** **** **** ****')\n",
    "\n",
    "new_js=json.dumps(product_details)\n",
    "fd1 = open('products.json','w')\n",
    "fd1.write(new_js)\n",
    "fd1.close()\n",
    "\n",
    "new_sales = json.dumps(sales)\n",
    "fd2 = open('sales.json','w')\n",
    "fd2.write(new_sales)\n",
    "fd2.close()\n",
    "\n",
    "new_bill='Bill_no_'+str(bill)+'.txt'\n",
    "fd3=open(new_bill,'w')\n",
    "fd3.write('**** **** **** **** **** **** **** **** **** ****\\n')\n",
    "fd3.write(('Bill No:'+str(bill)+'            '+time.ctime()+'\\n'))\n",
    "fd3.write(tabulate(lst,headers =['Product ID','Product Name','Quantity','Price'],tablefmt = 'pretty'))\n",
    "fd3.write('\\n**** **** **** **** **** **** **** **** **** ****')\n",
    "fd3.close()\n",
    "\n"
   ]
  },
  {
   "cell_type": "markdown",
   "id": "96ca793d",
   "metadata": {},
   "source": [
    "### PRODUCT EXPIRY INFORMATION"
   ]
  },
  {
   "cell_type": "code",
   "execution_count": 5,
   "id": "0d2efb68",
   "metadata": {},
   "outputs": [
    {
     "name": "stdout",
     "output_type": "stream",
     "text": [
      "PRODUCT EXPIRY INFORMATION\n",
      "--------------------------\n",
      "\n",
      "Enter the month & year(eg:Jan 2021):Oct 2022\n",
      "\n",
      "**** **** **** **** **** **** ****\n",
      "Product ID: 119  Product Name: Fair & Lovely\n",
      "Product ID: 130  Product Name: Brittania\n",
      "**** **** **** **** **** **** ****\n"
     ]
    }
   ],
   "source": [
    "print('PRODUCT EXPIRY INFORMATION')\n",
    "print('--------------------------\\n')\n",
    "expiry = input('Enter the month & year(eg:Jan 2021):')\n",
    "print('\\n**** **** **** **** **** **** ****')\n",
    "for i in product_details:\n",
    "    \n",
    "    if(expiry == product_details[i]['exp']):\n",
    "        print('Product ID:',i,' Product Name:',product_details[i]['name'])\n",
    "print('**** **** **** **** **** **** ****')"
   ]
  }
 ],
 "metadata": {
  "kernelspec": {
   "display_name": "Python 3",
   "language": "python",
   "name": "python3"
  },
  "language_info": {
   "codemirror_mode": {
    "name": "ipython",
    "version": 3
   },
   "file_extension": ".py",
   "mimetype": "text/x-python",
   "name": "python",
   "nbconvert_exporter": "python",
   "pygments_lexer": "ipython3",
   "version": "3.8.8"
  }
 },
 "nbformat": 4,
 "nbformat_minor": 5
}
